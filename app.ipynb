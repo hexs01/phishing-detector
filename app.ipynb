{
 "cells": [
  {
   "cell_type": "code",
   "execution_count": 1,
   "metadata": {},
   "outputs": [],
   "source": [
    "import gradio as gr\n",
    "import keras\n",
    "import tensorflow as tf\n",
    "import numpy as np\n",
    "import json\n",
    "from urllib.request import Request, urlopen\n",
    "from urllib.error import HTTPError\n",
    "from bs4 import BeautifulSoup as bs\n",
    "import networkx as nx\n",
    "from spektral.utils import normalized_adjacency\n",
    "import requests\n",
    "\n",
    "from tensorflow.keras.models import Sequential, Model\n",
    "from tensorflow.keras.layers import Dense, LSTM, Embedding, Conv1D, MaxPooling1D, Dropout, Input, Flatten\n",
    "from spektral.layers import GCSConv, GlobalAvgPool, MinCutPool\n"
   ]
  },
  {
   "cell_type": "code",
   "execution_count": 2,
   "metadata": {},
   "outputs": [
    {
     "name": "stderr",
     "output_type": "stream",
     "text": [
      "d:\\Kerja\\Anaconda\\conda\\envs\\gensim\\lib\\site-packages\\keras\\initializers\\initializers_v2.py:121: UserWarning: The initializer GlorotUniform is unseeded and being called multiple times, which will return identical values  each time (even if the initializer is unseeded). Please update your code to provide a seed to the initializer, or avoid using the same initalizer instance more than once.\n",
      "  f\"The initializer {self.__class__.__name__} is unseeded \"\n"
     ]
    },
    {
     "name": "stdout",
     "output_type": "stream",
     "text": [
      "Model: \"model\"\n",
      "__________________________________________________________________________________________________\n",
      " Layer (type)                   Output Shape         Param #     Connected to                     \n",
      "==================================================================================================\n",
      " input_1 (InputLayer)           [(None, 140, 140)]   0           []                               \n",
      "                                                                                                  \n",
      " input_2 (InputLayer)           [(None, 140, 140)]   0           []                               \n",
      "                                                                                                  \n",
      " graph_conv_skip (GraphConvSkip  (None, 140, 32)     8992        ['input_1[0][0]',                \n",
      " )                                                                'input_2[0][0]']                \n",
      "                                                                                                  \n",
      " dropout (Dropout)              (None, 140, 32)      0           ['graph_conv_skip[0][0]']        \n",
      "                                                                                                  \n",
      " graph_conv_skip_1 (GraphConvSk  (None, 140, 32)     2080        ['dropout[0][0]',                \n",
      " ip)                                                              'input_2[0][0]']                \n",
      "                                                                                                  \n",
      " dropout_1 (Dropout)            (None, 140, 32)      0           ['graph_conv_skip_1[0][0]']      \n",
      "                                                                                                  \n",
      " graph_conv_skip_2 (GraphConvSk  (None, 140, 32)     2080        ['dropout_1[0][0]',              \n",
      " ip)                                                              'input_2[0][0]']                \n",
      "                                                                                                  \n",
      " global_avg_pool (GlobalAvgPool  (None, 32)          0           ['graph_conv_skip_2[0][0]']      \n",
      " )                                                                                                \n",
      "                                                                                                  \n",
      " dense (Dense)                  (None, 2)            66          ['global_avg_pool[0][0]']        \n",
      "                                                                                                  \n",
      "==================================================================================================\n",
      "Total params: 13,218\n",
      "Trainable params: 13,218\n",
      "Non-trainable params: 0\n",
      "__________________________________________________________________________________________________\n",
      "None\n"
     ]
    }
   ],
   "source": [
    "# Number of classes (e.g., Phishing or Not Phishing)\n",
    "num_classes = 2\n",
    "num_nodes, num_features = 140, 140\n",
    "\n",
    "#gcsconv activation func\n",
    "gcsconv_act = 'relu'\n",
    "#output activation func\n",
    "out_act = 'linear'\n",
    "#optimizer\n",
    "optimizer = 'adam'\n",
    "\n",
    "# Inputs\n",
    "X_in = Input(shape=(num_nodes,num_features))\n",
    "A_in = Input(shape=(num_nodes,num_features), sparse=True)\n",
    "#I_in = Input(shape=(None,),name='segment_ids',dtype=tf.int32)\n",
    "\n",
    "class GraphConvSkip(GCSConv):\n",
    "    def __init__(self,channels,activation='relu'):\n",
    "        super().__init__(channels,activation=activation)\n",
    "\n",
    "    def get_config(self):\n",
    "        config = super().get_config()\n",
    "        return config\n",
    "#GCSConv(32, activation='relu', kernel_regularizer=tf.keras.regularizers.l2(1e-3), use_bias=True, kernel_initializer='he_uniform', bias_initializer='zeros')\n",
    "# Graph Convolution and Pooling layers\n",
    "gc1 = GraphConvSkip(channels=32)([X_in, A_in])\n",
    "dropout_1 = Dropout(.5)(gc1)\n",
    "gc2 = GraphConvSkip(channels=32)([dropout_1, A_in])\n",
    "dropout_2 = Dropout(.5)(gc2)\n",
    "gc3 = GraphConvSkip(channels=32)([dropout_2, A_in])\n",
    "\n",
    "# GlobalAvgPool layer\n",
    "global_avg_pool = GlobalAvgPool()(gc3)\n",
    "\n",
    "# Classification layer\n",
    "output = Dense(num_classes, activation='linear')(global_avg_pool)\n",
    "\n",
    "# Create the model\n",
    "model = tf.keras.Model(inputs=[X_in, A_in], outputs=output)\n",
    "\n",
    "# Compile the model\n",
    "model.compile(optimizer='adam', loss='mse', metrics=['accuracy'])\n",
    "print(model.summary())\n"
   ]
  },
  {
   "cell_type": "code",
   "execution_count": 3,
   "metadata": {},
   "outputs": [
    {
     "ename": "PermissionError",
     "evalue": "[Errno 13] Unable to open file (unable to open file: name = 'htmldet_weight', errno = 13, error message = 'Permission denied', flags = 0, o_flags = 0)",
     "output_type": "error",
     "traceback": [
      "\u001b[1;31m---------------------------------------------------------------------------\u001b[0m",
      "\u001b[1;31mPermissionError\u001b[0m                           Traceback (most recent call last)",
      "\u001b[1;32m~\\AppData\\Local\\Temp\\ipykernel_20992\\2618594557.py\u001b[0m in \u001b[0;36m<module>\u001b[1;34m\u001b[0m\n\u001b[1;32m----> 1\u001b[1;33m \u001b[0mmodel\u001b[0m\u001b[1;33m.\u001b[0m\u001b[0mload_weights\u001b[0m\u001b[1;33m(\u001b[0m\u001b[1;34m'htmldet_weight'\u001b[0m\u001b[1;33m)\u001b[0m\u001b[1;33m\u001b[0m\u001b[1;33m\u001b[0m\u001b[0m\n\u001b[0m\u001b[0;32m      2\u001b[0m \u001b[1;33m\u001b[0m\u001b[0m\n\u001b[0;32m      3\u001b[0m \u001b[1;31m#model = tf.keras.models.load_model('htmldet')\u001b[0m\u001b[1;33m\u001b[0m\u001b[1;33m\u001b[0m\u001b[1;33m\u001b[0m\u001b[0m\n",
      "\u001b[1;32md:\\Kerja\\Anaconda\\conda\\envs\\gensim\\lib\\site-packages\\keras\\utils\\traceback_utils.py\u001b[0m in \u001b[0;36merror_handler\u001b[1;34m(*args, **kwargs)\u001b[0m\n\u001b[0;32m     68\u001b[0m             \u001b[1;31m# To get the full stack trace, call:\u001b[0m\u001b[1;33m\u001b[0m\u001b[1;33m\u001b[0m\u001b[1;33m\u001b[0m\u001b[0m\n\u001b[0;32m     69\u001b[0m             \u001b[1;31m# `tf.debugging.disable_traceback_filtering()`\u001b[0m\u001b[1;33m\u001b[0m\u001b[1;33m\u001b[0m\u001b[1;33m\u001b[0m\u001b[0m\n\u001b[1;32m---> 70\u001b[1;33m             \u001b[1;32mraise\u001b[0m \u001b[0me\u001b[0m\u001b[1;33m.\u001b[0m\u001b[0mwith_traceback\u001b[0m\u001b[1;33m(\u001b[0m\u001b[0mfiltered_tb\u001b[0m\u001b[1;33m)\u001b[0m \u001b[1;32mfrom\u001b[0m \u001b[1;32mNone\u001b[0m\u001b[1;33m\u001b[0m\u001b[1;33m\u001b[0m\u001b[0m\n\u001b[0m\u001b[0;32m     71\u001b[0m         \u001b[1;32mfinally\u001b[0m\u001b[1;33m:\u001b[0m\u001b[1;33m\u001b[0m\u001b[1;33m\u001b[0m\u001b[0m\n\u001b[0;32m     72\u001b[0m             \u001b[1;32mdel\u001b[0m \u001b[0mfiltered_tb\u001b[0m\u001b[1;33m\u001b[0m\u001b[1;33m\u001b[0m\u001b[0m\n",
      "\u001b[1;32md:\\Kerja\\Anaconda\\conda\\envs\\gensim\\lib\\site-packages\\h5py\\_hl\\files.py\u001b[0m in \u001b[0;36m__init__\u001b[1;34m(self, name, mode, driver, libver, userblock_size, swmr, rdcc_nslots, rdcc_nbytes, rdcc_w0, track_order, fs_strategy, fs_persist, fs_threshold, fs_page_size, page_buf_size, min_meta_keep, min_raw_keep, locking, alignment_threshold, alignment_interval, meta_block_size, **kwds)\u001b[0m\n\u001b[0;32m    565\u001b[0m                                  \u001b[0mfs_persist\u001b[0m\u001b[1;33m=\u001b[0m\u001b[0mfs_persist\u001b[0m\u001b[1;33m,\u001b[0m \u001b[0mfs_threshold\u001b[0m\u001b[1;33m=\u001b[0m\u001b[0mfs_threshold\u001b[0m\u001b[1;33m,\u001b[0m\u001b[1;33m\u001b[0m\u001b[1;33m\u001b[0m\u001b[0m\n\u001b[0;32m    566\u001b[0m                                  fs_page_size=fs_page_size)\n\u001b[1;32m--> 567\u001b[1;33m                 \u001b[0mfid\u001b[0m \u001b[1;33m=\u001b[0m \u001b[0mmake_fid\u001b[0m\u001b[1;33m(\u001b[0m\u001b[0mname\u001b[0m\u001b[1;33m,\u001b[0m \u001b[0mmode\u001b[0m\u001b[1;33m,\u001b[0m \u001b[0muserblock_size\u001b[0m\u001b[1;33m,\u001b[0m \u001b[0mfapl\u001b[0m\u001b[1;33m,\u001b[0m \u001b[0mfcpl\u001b[0m\u001b[1;33m,\u001b[0m \u001b[0mswmr\u001b[0m\u001b[1;33m=\u001b[0m\u001b[0mswmr\u001b[0m\u001b[1;33m)\u001b[0m\u001b[1;33m\u001b[0m\u001b[1;33m\u001b[0m\u001b[0m\n\u001b[0m\u001b[0;32m    568\u001b[0m \u001b[1;33m\u001b[0m\u001b[0m\n\u001b[0;32m    569\u001b[0m             \u001b[1;32mif\u001b[0m \u001b[0misinstance\u001b[0m\u001b[1;33m(\u001b[0m\u001b[0mlibver\u001b[0m\u001b[1;33m,\u001b[0m \u001b[0mtuple\u001b[0m\u001b[1;33m)\u001b[0m\u001b[1;33m:\u001b[0m\u001b[1;33m\u001b[0m\u001b[1;33m\u001b[0m\u001b[0m\n",
      "\u001b[1;32md:\\Kerja\\Anaconda\\conda\\envs\\gensim\\lib\\site-packages\\h5py\\_hl\\files.py\u001b[0m in \u001b[0;36mmake_fid\u001b[1;34m(name, mode, userblock_size, fapl, fcpl, swmr)\u001b[0m\n\u001b[0;32m    229\u001b[0m         \u001b[1;32mif\u001b[0m \u001b[0mswmr\u001b[0m \u001b[1;32mand\u001b[0m \u001b[0mswmr_support\u001b[0m\u001b[1;33m:\u001b[0m\u001b[1;33m\u001b[0m\u001b[1;33m\u001b[0m\u001b[0m\n\u001b[0;32m    230\u001b[0m             \u001b[0mflags\u001b[0m \u001b[1;33m|=\u001b[0m \u001b[0mh5f\u001b[0m\u001b[1;33m.\u001b[0m\u001b[0mACC_SWMR_READ\u001b[0m\u001b[1;33m\u001b[0m\u001b[1;33m\u001b[0m\u001b[0m\n\u001b[1;32m--> 231\u001b[1;33m         \u001b[0mfid\u001b[0m \u001b[1;33m=\u001b[0m \u001b[0mh5f\u001b[0m\u001b[1;33m.\u001b[0m\u001b[0mopen\u001b[0m\u001b[1;33m(\u001b[0m\u001b[0mname\u001b[0m\u001b[1;33m,\u001b[0m \u001b[0mflags\u001b[0m\u001b[1;33m,\u001b[0m \u001b[0mfapl\u001b[0m\u001b[1;33m=\u001b[0m\u001b[0mfapl\u001b[0m\u001b[1;33m)\u001b[0m\u001b[1;33m\u001b[0m\u001b[1;33m\u001b[0m\u001b[0m\n\u001b[0m\u001b[0;32m    232\u001b[0m     \u001b[1;32melif\u001b[0m \u001b[0mmode\u001b[0m \u001b[1;33m==\u001b[0m \u001b[1;34m'r+'\u001b[0m\u001b[1;33m:\u001b[0m\u001b[1;33m\u001b[0m\u001b[1;33m\u001b[0m\u001b[0m\n\u001b[0;32m    233\u001b[0m         \u001b[0mfid\u001b[0m \u001b[1;33m=\u001b[0m \u001b[0mh5f\u001b[0m\u001b[1;33m.\u001b[0m\u001b[0mopen\u001b[0m\u001b[1;33m(\u001b[0m\u001b[0mname\u001b[0m\u001b[1;33m,\u001b[0m \u001b[0mh5f\u001b[0m\u001b[1;33m.\u001b[0m\u001b[0mACC_RDWR\u001b[0m\u001b[1;33m,\u001b[0m \u001b[0mfapl\u001b[0m\u001b[1;33m=\u001b[0m\u001b[0mfapl\u001b[0m\u001b[1;33m)\u001b[0m\u001b[1;33m\u001b[0m\u001b[1;33m\u001b[0m\u001b[0m\n",
      "\u001b[1;32mh5py\\_objects.pyx\u001b[0m in \u001b[0;36mh5py._objects.with_phil.wrapper\u001b[1;34m()\u001b[0m\n",
      "\u001b[1;32mh5py\\_objects.pyx\u001b[0m in \u001b[0;36mh5py._objects.with_phil.wrapper\u001b[1;34m()\u001b[0m\n",
      "\u001b[1;32mh5py\\h5f.pyx\u001b[0m in \u001b[0;36mh5py.h5f.open\u001b[1;34m()\u001b[0m\n",
      "\u001b[1;31mPermissionError\u001b[0m: [Errno 13] Unable to open file (unable to open file: name = 'htmldet_weight', errno = 13, error message = 'Permission denied', flags = 0, o_flags = 0)"
     ]
    }
   ],
   "source": [
    "model.load_weights('htmldet_weight')\n",
    "\n",
    "#model = tf.keras.models.load_model('htmldet')"
   ]
  },
  {
   "cell_type": "code",
   "execution_count": 3,
   "metadata": {},
   "outputs": [],
   "source": [
    "def preprocess_graphs(graph):\n",
    "    # Compute the maximum number of nodes among all graphs\n",
    "    max_nodes = 140\n",
    "    max_features = 140\n",
    "\n",
    "    adj_matrix = nx.to_numpy_array(graph, dtype=np.float32)\n",
    "    adj_matrix = np.pad(adj_matrix, ((0, max_nodes - adj_matrix.shape[0]), (0, max_nodes - adj_matrix.shape[1])), mode='constant')\n",
    "    adj_matrix = normalized_adjacency(adj_matrix)\n",
    "\n",
    "\n",
    "    nodes = np.eye(len(graph.nodes()), dtype=np.float32)\n",
    "    nodes = np.pad(nodes, ((0, max_nodes - nodes.shape[0]), (0, max_features - nodes.shape[1])), mode='constant')\n",
    "\n",
    "    return np.array(adj_matrix), np.array(nodes)\n",
    "\n",
    "def graph_maker(url):\n",
    "    # Read HTML file and convert it to a NetworkX graph\n",
    "    try:\n",
    "        html = Request(url,headers={'User-Agent':'Mozilla/5.0'})\n",
    "        html_object = urlopen(html).read()\n",
    "        soup = bs(html_object,'html.parser')\n",
    "    except requests.exceptions.RequestException as e:\n",
    "        print(f\"Error: {e}\")\n",
    "    except HTTPError as e:\n",
    "        print(f'Error{e}')\n",
    "\n",
    "    #transform html into graph form\n",
    "    G = nx.Graph()\n",
    "    for tag in soup.find_all():\n",
    "        G.add_node(tag.name)\n",
    "    for tag in soup.find_all():\n",
    "        for child in tag.find_all():\n",
    "            G.add_edge(tag.name, child.name)\n",
    "\n",
    "    adj_matrix, node_features = preprocess_graphs(G)\n",
    "\n",
    "    return adj_matrix, node_features"
   ]
  },
  {
   "cell_type": "code",
   "execution_count": 48,
   "metadata": {},
   "outputs": [
    {
     "name": "stderr",
     "output_type": "stream",
     "text": [
      "fatal: destination path 'PhishDet_demo' already exists and is not an empty directory.\n"
     ]
    }
   ],
   "source": [
    "!git clone https://huggingface.co/spaces/ucop/PhishDet_demo"
   ]
  },
  {
   "cell_type": "code",
   "execution_count": 4,
   "metadata": {},
   "outputs": [
    {
     "name": "stdout",
     "output_type": "stream",
     "text": [
      "Running on local URL:  http://127.0.0.1:7860\n",
      "\n",
      "To create a public link, set `share=True` in `launch()`.\n"
     ]
    },
    {
     "data": {
      "text/html": [
       "<div><iframe src=\"http://127.0.0.1:7860/\" width=\"100%\" height=\"500\" allow=\"autoplay; camera; microphone; clipboard-read; clipboard-write;\" frameborder=\"0\" allowfullscreen></iframe></div>"
      ],
      "text/plain": [
       "<IPython.core.display.HTML object>"
      ]
     },
     "metadata": {},
     "output_type": "display_data"
    },
    {
     "data": {
      "text/plain": []
     },
     "execution_count": 4,
     "metadata": {},
     "output_type": "execute_result"
    }
   ],
   "source": [
    "def URLDET(url):\n",
    "    f = open(r'D:\\Kerja\\UITM\\Sem_6\\CSP_650\\FYP\\urldet_vocab.json')\n",
    "    vocab = json.load(f)\n",
    "    urldet = keras.models.load_model(r'D:\\Kerja\\UITM\\Sem_6\\CSP_650\\FYP\\urldet.h5')\n",
    "\n",
    "    #preprocess html\n",
    "    adj_matrix, node_features = graph_maker(url)\n",
    "    adj_matrix = np.array([adj_matrix])\n",
    "    node_features = np.array([node_features])\n",
    "    #predict html\n",
    "    try:\n",
    "        html_prediction = model.predict([node_features,adj_matrix])\n",
    "        max_html = np.where(html_prediction[0] == np.max(html_prediction[0]))\n",
    "    except HTTPError as e:\n",
    "        max_html = np.array([1])\n",
    "        html_prediction = np.array([[0,0]])\n",
    "    except ValueError as e:\n",
    "        max_html = np.array([1])\n",
    "        html_prediction = np.array([[0,0]])\n",
    "    \n",
    "    #url cutter\n",
    "    if len(url) < 150:\n",
    "        url = url + (' '*(150-len(url)))\n",
    "    url = url[:150]\n",
    "\n",
    "    #convert url into vector\n",
    "    vector_url = [vocab[char] for char in url]\n",
    "\n",
    "    #predict the url\n",
    "    url_prediction = urldet.predict(np.array([vector_url]))\n",
    "    max_url = np.where(url_prediction[0] == np.max(url_prediction[0]))\n",
    "\n",
    "    prediction = [max_url,max_html]\n",
    "    if np.sum(prediction) == 2:\n",
    "        predict = 'Safe'\n",
    "    elif np.sum(prediction) == 1:\n",
    "        predict = \"Careful\"\n",
    "    else:\n",
    "        predict = 'Phishing'\n",
    "        \n",
    "    return predict, url_prediction, html_prediction\n",
    "\n",
    "demo = gr.Interface(URLDET, inputs=[gr.Textbox(label='URL',lines=2,placeholder='url')], \n",
    "                    outputs=[gr.Textbox(label='prediction'),gr.Textbox(label='URLDET result'),gr.Textbox(label='HTMLDET prediction')],\n",
    "                    examples=['https://www.cbsnews.com/news/twitter-rebrand-x-name-change-elon-musk-what-it-means/','https://freefireadvanceserver.info','https://alw4erb.web.app/'],\n",
    "                    theme=gr.themes.Soft())\n",
    "demo.launch()"
   ]
  },
  {
   "cell_type": "code",
   "execution_count": 50,
   "metadata": {},
   "outputs": [
    {
     "name": "stderr",
     "output_type": "stream",
     "text": [
      "fatal: not a git repository (or any of the parent directories): .git\n",
      "fatal: not a git repository (or any of the parent directories): .git\n",
      "fatal: not a git repository (or any of the parent directories): .git\n"
     ]
    }
   ],
   "source": [
    "!git add app.ipynb\n",
    "!git commit -m \"https://huggingface.co/spaces/ucop/PhishDet_demo\"\n",
    "!git push"
   ]
  },
  {
   "cell_type": "code",
   "execution_count": 26,
   "metadata": {},
   "outputs": [
    {
     "name": "stdout",
     "output_type": "stream",
     "text": [
      "[28 28 28  5 98  6 16 14 16 17  1  5  4  6  7 48 48 48 48 48 48 48 48 48\n",
      " 48 48 48 48 48 48 48 48 48 48 48 48 48 48 48 48 48 48 48 48 48 48 48 48\n",
      " 48 48 48 48 48 48 48 48 48 48 48 48 48 48 48 48 48 48 48 48 48 48 48 48\n",
      " 48 48 48 48 48 48 48 48 48 48 48 48 48 48 48 48 48 48 48 48 48 48 48 48\n",
      " 48 48 48 48 48 48 48 48 48 48 48 48 48 48 48 48 48 48 48 48 48 48 48 48\n",
      " 48 48 48 48 48 48 48 48 48 48 48 48 48 48 48 48 48 48 48 48 48 48 48 48\n",
      " 48 48 48 48 48 48]\n"
     ]
    }
   ],
   "source": [
    "url = 'www.youtube.com'\n",
    "f = open(r'D:\\Kerja\\UITM\\Sem 6\\CSP650\\Chrome_Extension\\urldet\\urldet_vocab.json')\n",
    "vocab = json.load(f)\n",
    "\n",
    "if len(url) < 150:\n",
    "    url = url + (' '*(150-len(url)))\n",
    "url = url[:150]\n",
    "\n",
    "#convert url into vector\n",
    "url = np.array([vocab[char] for char in url])"
   ]
  },
  {
   "cell_type": "code",
   "execution_count": 10,
   "metadata": {},
   "outputs": [
    {
     "name": "stdout",
     "output_type": "stream",
     "text": [
      "Model: \"model\"\n",
      "_________________________________________________________________\n",
      " Layer (type)                Output Shape              Param #   \n",
      "=================================================================\n",
      " input_1 (InputLayer)        [(None, 150, 1)]          0         \n",
      "                                                                 \n",
      " flatten (Flatten)           (None, 150)               0         \n",
      "                                                                 \n",
      " embedding (Embedding)       (None, 150, 256)          65792     \n",
      "                                                                 \n",
      " dropout (Dropout)           (None, 150, 256)          0         \n",
      "                                                                 \n",
      " conv1d (Conv1D)             (None, 148, 256)          196864    \n",
      "                                                                 \n",
      " max_pooling1d (MaxPooling1D  (None, 147, 256)         0         \n",
      " )                                                               \n",
      "                                                                 \n",
      " dropout_1 (Dropout)         (None, 147, 256)          0         \n",
      "                                                                 \n",
      " lstm (LSTM)                 (None, 147, 32)           36992     \n",
      "                                                                 \n",
      " lstm_1 (LSTM)               (None, 32)                8320      \n",
      "                                                                 \n",
      " dropout_2 (Dropout)         (None, 32)                0         \n",
      "                                                                 \n",
      " dense (Dense)               (None, 2)                 66        \n",
      "                                                                 \n",
      "=================================================================\n",
      "Total params: 308,034\n",
      "Trainable params: 308,034\n",
      "Non-trainable params: 0\n",
      "_________________________________________________________________\n"
     ]
    }
   ],
   "source": [
    "callback = tf.keras.models.load_model(r'D:\\Kerja\\UITM\\Sem 6\\CSP650\\urldet.h5')\n",
    "callback.summary()"
   ]
  },
  {
   "cell_type": "code",
   "execution_count": 69,
   "metadata": {},
   "outputs": [
    {
     "name": "stdout",
     "output_type": "stream",
     "text": [
      "[1]\n"
     ]
    }
   ],
   "source": [
    "x = np.array([9,50])\n",
    "result = np.where(x == max(x))\n",
    "print(result[0])"
   ]
  }
 ],
 "metadata": {
  "kernelspec": {
   "display_name": "cuda",
   "language": "python",
   "name": "python3"
  },
  "language_info": {
   "codemirror_mode": {
    "name": "ipython",
    "version": 3
   },
   "file_extension": ".py",
   "mimetype": "text/x-python",
   "name": "python",
   "nbconvert_exporter": "python",
   "pygments_lexer": "ipython3",
   "version": "3.7.16"
  },
  "orig_nbformat": 4
 },
 "nbformat": 4,
 "nbformat_minor": 2
}
